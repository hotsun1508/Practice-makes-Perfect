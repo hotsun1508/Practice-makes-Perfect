{
 "cells": [
  {
   "cell_type": "code",
   "execution_count": 13,
   "metadata": {},
   "outputs": [],
   "source": [
    "import pandas as pd\n",
    "import glob\n",
    "import os"
   ]
  },
  {
   "cell_type": "code",
   "execution_count": 14,
   "metadata": {},
   "outputs": [],
   "source": [
    "file_format = \".xlsx\" # .csv\n",
    "file_path = \"./2018_excel\"\n",
    "file_list = glob.glob(f\"{file_path}/*{file_format}\")"
   ]
  },
  {
   "cell_type": "code",
   "execution_count": 17,
   "metadata": {},
   "outputs": [],
   "source": [
    "def merge_excel_files(file_path, file_format, save_path, save_format, columns=None):\n",
    "    merge_df = pd.DataFrame()\n",
    "    file_list = file_list = [f\"{file_path}/{file}\" for file in os.listdir(file_path) if file_format in file]\n",
    "    \n",
    "    for file_name in file_list:\n",
    "        file_df = pd.read_excel(file_name, skiprows=[1], header=1)\n",
    "        \n",
    "        # if columns is None:\n",
    "        #     columns = file_df.columns\n",
    "            \n",
    "        temp_df = file_df.drop(file_df.columns[7:11], axis=1)\n",
    "        temp_df[:-3]\n",
    "        \n",
    "        merge_df = merge_df.append(temp_df)\n",
    "        \n",
    "        merge_df.to_excel(save_path, index=False)\n",
    "        \n",
    "\n",
    "if __name__ == \"__main__\":  # 파이썬 파일로 모듈화 된 경우 실행하도록 nested된 코드\n",
    "    merge_excel_files(file_path=\"./2018_excel\", file_format=\".xlsx\", \n",
    "                      save_path=\"2018_병합_2.xlsx\", save_format=\".xlsx\")"
   ]
  },
  {
   "cell_type": "code",
   "execution_count": null,
   "metadata": {},
   "outputs": [],
   "source": []
  }
 ],
 "metadata": {
  "kernelspec": {
   "display_name": "Python 3.7.13 ('usetorch')",
   "language": "python",
   "name": "python3"
  },
  "language_info": {
   "codemirror_mode": {
    "name": "ipython",
    "version": 3
   },
   "file_extension": ".py",
   "mimetype": "text/x-python",
   "name": "python",
   "nbconvert_exporter": "python",
   "pygments_lexer": "ipython3",
   "version": "3.7.13"
  },
  "orig_nbformat": 4,
  "vscode": {
   "interpreter": {
    "hash": "de33a86e8eae37df658039d4e617eb40bd9efb4086b3a5fd5568010246f05401"
   }
  }
 },
 "nbformat": 4,
 "nbformat_minor": 2
}
